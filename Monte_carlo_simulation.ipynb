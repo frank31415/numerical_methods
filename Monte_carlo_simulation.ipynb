{
 "cells": [
  {
   "cell_type": "markdown",
   "metadata": {},
   "source": [
    "# 3a"
   ]
  },
  {
   "cell_type": "code",
   "execution_count": 1,
   "metadata": {},
   "outputs": [],
   "source": [
    "import numpy as np\n",
    "import random\n",
    "import statistics\n",
    "import math\n",
    "import matplotlib.pyplot as plt"
   ]
  },
  {
   "cell_type": "code",
   "execution_count": 2,
   "metadata": {},
   "outputs": [],
   "source": [
    "def randomx(x, dx):\n",
    "    delta = 2*(np.random.random()-0.5)\n",
    "    y = x + delta*dx\n",
    "    return y"
   ]
  },
  {
   "cell_type": "code",
   "execution_count": 3,
   "metadata": {},
   "outputs": [],
   "source": [
    "def U(x):\n",
    "    u = x**4+3*x**3-2.5*x\n",
    "    return u"
   ]
  },
  {
   "cell_type": "code",
   "execution_count": 4,
   "metadata": {},
   "outputs": [],
   "source": [
    "def accept(dE, T):\n",
    "    p = 0\n",
    "    if dE > 0:\n",
    "        p = np.random.random()\n",
    "        if np.exp(-dE/T) < p:\n",
    "            return False\n",
    "        else: \n",
    "            return True\n",
    "    else:\n",
    "        return True"
   ]
  },
  {
   "cell_type": "code",
   "execution_count": 5,
   "metadata": {},
   "outputs": [],
   "source": [
    "dx = 0.5\n",
    "N = 100000\n",
    "#x is starting position, input list\n",
    "#T is Temperature times Boltzmann constant"
   ]
  },
  {
   "cell_type": "code",
   "execution_count": 6,
   "metadata": {},
   "outputs": [],
   "source": [
    "def Main(x, dx, N, T):\n",
    "    counter = 1 #count accepted moves, initial position is also counted\n",
    "    sumu = U(x[0])\n",
    "    xnew = 0\n",
    "    for i in range(0,N):\n",
    "        uold = U(x[i])\n",
    "        xnew = randomx(x[i], dx)\n",
    "        unew = U(xnew)\n",
    "        dE = unew - uold\n",
    "        if accept(dE, T):\n",
    "            counter = counter + 1\n",
    "            sumu = sumu + unew\n",
    "            x.append(xnew)\n",
    "        else: #if new position is declined count the old position as new position\n",
    "            x.append(x[i])\n",
    "            sumu = sumu + uold\n",
    "    print(\"Acceptance probability:\" + str(counter/N))\n",
    "    print(\"Average U:\" + str(sumu/N))\n",
    "    print(\"Average position <x> =\" + str(statistics.mean(x)))\n",
    "    \n",
    "    return x"
   ]
  },
  {
   "cell_type": "code",
   "execution_count": 8,
   "metadata": {},
   "outputs": [
    {
     "name": "stdout",
     "output_type": "stream",
     "text": [
      "Acceptance probability:0.66979\n",
      "Average U:-2.349891941198149\n",
      "Average position <x> =-1.8408049160145492\n"
     ]
    }
   ],
   "source": [
    "xa1 = Main([-1], dx, N, 1)"
   ]
  },
  {
   "cell_type": "code",
   "execution_count": 10,
   "metadata": {},
   "outputs": [
    {
     "data": {
      "image/png": "[encoded data removed]",
      "text/plain": [
       "<Figure size 432x288 with 1 Axes>"
      ]
     },
     "metadata": {
      "needs_background": "light"
     },
     "output_type": "display_data"
    }
   ],
   "source": [
    "plt.hist(xa1, density=True, bins=100)  # density=False would make counts\n",
    "plt.axvline(-1.7383334560133976, color = \"red\")\n",
    "plt.ylabel('Relative frequency')\n",
    "plt.xlabel('x')\n",
    "plt.show()"
   ]
  },
  {
   "cell_type": "markdown",
   "metadata": {},
   "source": [
    "Red line indicates the average position < x >."
   ]
  },
  {
   "cell_type": "markdown",
   "metadata": {},
   "source": [
    "# 3b"
   ]
  },
  {
   "cell_type": "code",
   "execution_count": 11,
   "metadata": {},
   "outputs": [
    {
     "name": "stdout",
     "output_type": "stream",
     "text": [
      "Acceptance probability:0.25769\n",
      "Average U:-3.0356971308564393\n",
      "Average position <x> =-2.1020356313469692\n"
     ]
    }
   ],
   "source": [
    "xb1 = Main([-2.1], 0.5, 100000, 0.1)"
   ]
  },
  {
   "cell_type": "code",
   "execution_count": 12,
   "metadata": {},
   "outputs": [
    {
     "name": "stdout",
     "output_type": "stream",
     "text": [
      "Acceptance probability:0.535\n",
      "Average U:-2.7844104262179283\n",
      "Average position <x> =-2.038623751867229\n"
     ]
    }
   ],
   "source": [
    "xb2 = Main([-2.1], 0.5, 100000, 0.5)"
   ]
  },
  {
   "cell_type": "code",
   "execution_count": 13,
   "metadata": {},
   "outputs": [
    {
     "name": "stdout",
     "output_type": "stream",
     "text": [
      "Acceptance probability:0.67762\n",
      "Average U:-2.1981620321569477\n",
      "Average position <x> =-1.6864959672530377\n"
     ]
    }
   ],
   "source": [
    "xb3 = Main([-2.1], 0.5, 100000, 1)"
   ]
  },
  {
   "cell_type": "code",
   "execution_count": 14,
   "metadata": {},
   "outputs": [
    {
     "name": "stdout",
     "output_type": "stream",
     "text": [
      "Acceptance probability:0.7935\n",
      "Average U:-1.5154513960557625\n",
      "Average position <x> =-1.3790869385909854\n"
     ]
    }
   ],
   "source": [
    "xb4 = Main([-2.1], 0.5, 100000, 2)"
   ]
  },
  {
   "cell_type": "code",
   "execution_count": 18,
   "metadata": {},
   "outputs": [
    {
     "data": {
      "image/png": "[encoded data removed]",
      "text/plain": [
       "<Figure size 432x288 with 1 Axes>"
      ]
     },
     "metadata": {
      "needs_background": "light"
     },
     "output_type": "display_data"
    }
   ],
   "source": [
    "plt.hist(xb1, density=True, bins=100)  # density=False would make counts\n",
    "plt.ylabel('Relative frequency')\n",
    "plt.axvline(-2.1020356313469692, color = \"red\")\n",
    "plt.xlabel('x');\n",
    "plt.show()"
   ]
  },
  {
   "cell_type": "code",
   "execution_count": 21,
   "metadata": {},
   "outputs": [
    {
     "data": {
      "image/png": "[encoded data removed]",
      "text/plain": [
       "<Figure size 432x288 with 1 Axes>"
      ]
     },
     "metadata": {
      "needs_background": "light"
     },
     "output_type": "display_data"
    }
   ],
   "source": [
    "plt.hist(xb2, density=True, bins=100)  # density=False would make counts\n",
    "plt.ylabel('Relative frequency')\n",
    "plt.axvline(-2.038623751867229, color = \"red\")\n",
    "plt.xlabel('x');\n",
    "plt.show()"
   ]
  },
  {
   "cell_type": "code",
   "execution_count": 22,
   "metadata": {},
   "outputs": [
    {
     "data": {
      "image/png": "[encoded data removed]",
      "text/plain": [
       "<Figure size 432x288 with 1 Axes>"
      ]
     },
     "metadata": {
      "needs_background": "light"
     },
     "output_type": "display_data"
    }
   ],
   "source": [
    "plt.hist(xb3, density=True, bins=100)  # density=False would make counts\n",
    "plt.ylabel('Relative frequency')\n",
    "plt.axvline(-1.6864959672530377, color = \"red\")\n",
    "plt.xlabel('x');\n",
    "plt.show()"
   ]
  },
  {
   "cell_type": "code",
   "execution_count": 23,
   "metadata": {},
   "outputs": [
    {
     "data": {
      "image/png": "[encoded data removed]",
      "text/plain": [
       "<Figure size 432x288 with 1 Axes>"
      ]
     },
     "metadata": {
      "needs_background": "light"
     },
     "output_type": "display_data"
    }
   ],
   "source": [
    "plt.hist(xb4, density=True, bins=100)  # density=False would make counts\n",
    "plt.ylabel('Relative frequency')\n",
    "plt.axvline(-1.3790869385909854, color = \"red\")\n",
    "plt.xlabel('x');\n",
    "plt.show()"
   ]
  },
  {
   "cell_type": "markdown",
   "metadata": {},
   "source": [
    "With increasing Temperature the simulation gets over the potential barrier between the two minima. So for even higher k*T the effect of the potential barrier should be even lower."
   ]
  }
 ],
 "metadata": {
  "kernelspec": {
   "display_name": "Python 3",
   "language": "python",
   "name": "python3"
  },
  "language_info": {
   "codemirror_mode": {
    "name": "ipython",
    "version": 3
   },
   "file_extension": ".py",
   "mimetype": "text/x-python",
   "name": "python",
   "nbconvert_exporter": "python",
   "pygments_lexer": "ipython3",
   "version": "3.8.5"
  }
 },
 "nbformat": 4,
 "nbformat_minor": 4
}
