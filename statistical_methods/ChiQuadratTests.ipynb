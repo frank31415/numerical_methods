{
 "cells": [
  {
   "cell_type": "code",
   "execution_count": 1,
   "metadata": {},
   "outputs": [],
   "source": [
    "from scipy import stats\n",
    "import numpy as np\n",
    "import pandas as pd\n",
    "import matplotlib.pyplot as plt"
   ]
  },
  {
   "cell_type": "code",
   "execution_count": 4,
   "metadata": {},
   "outputs": [],
   "source": [
    "df1 = pd.read_csv('cia_Gini.csv') #gini\n",
    "df2 = pd.read_csv('cia_Birth_rate.csv') # birth_rate\n",
    "df3 = pd.read_csv('cia_Obesity.csv') # obesity\n",
    "df4 = pd.read_csv('cia_Unemployement_rate.csv') #unemployemnt_rate\n",
    "df5 = pd.read_csv('cia_Life_expectancy.csv') #life_exp\n",
    "df6 = pd.read_csv('cia_Gdp.csv') #gdp_cap\n",
    "df7 = pd.read_csv('cia_Renewables.csv') #energy_renewables\n",
    "df8 = pd.read_csv('cia_Population.csv') #population\n",
    "\n",
    "df1 = df1[['name','Gini']]\n",
    "df2 = df2[['name','birth_rate']]\n",
    "df4 = df4[['name','unemployement_rate']]\n",
    "df5 = df5[['name','life_expectancy']]\n",
    "df6 = df6[['name','gdp_per_capita']]\n",
    "df3 = df3[['name','obesity']]\n",
    "df7 = df7[['name','energy_renewables']]\n",
    "df8 = df8[['name','population']]\n",
    "\n",
    "df = pd.merge(df1, df2, on=\"name\")\n",
    "df = pd.merge(df, df3, on=\"name\")\n",
    "df = pd.merge(df, df4, on=\"name\")\n",
    "df = pd.merge(df, df5, on=\"name\")\n",
    "df = pd.merge(df, df6, on=\"name\")\n",
    "df = pd.merge(df, df7, on=\"name\")\n",
    "df = pd.merge(df, df8, on=\"name\")"
   ]
  },
  {
   "cell_type": "code",
   "execution_count": 5,
   "metadata": {},
   "outputs": [
    {
     "data": {
      "text/html": [
       "<div>\n",
       "<style scoped>\n",
       "    .dataframe tbody tr th:only-of-type {\n",
       "        vertical-align: middle;\n",
       "    }\n",
       "\n",
       "    .dataframe tbody tr th {\n",
       "        vertical-align: top;\n",
       "    }\n",
       "\n",
       "    .dataframe thead th {\n",
       "        text-align: right;\n",
       "    }\n",
       "</style>\n",
       "<table border=\"1\" class=\"dataframe\">\n",
       "  <thead>\n",
       "    <tr style=\"text-align: right;\">\n",
       "      <th></th>\n",
       "      <th>name</th>\n",
       "      <th>Gini</th>\n",
       "      <th>birth_rate</th>\n",
       "      <th>obesity</th>\n",
       "      <th>unemployement_rate</th>\n",
       "      <th>life_expectancy</th>\n",
       "      <th>gdp_per_capita</th>\n",
       "      <th>energy_renewables</th>\n",
       "      <th>population</th>\n",
       "    </tr>\n",
       "  </thead>\n",
       "  <tbody>\n",
       "    <tr>\n",
       "      <th>0</th>\n",
       "      <td>Tonga</td>\n",
       "      <td>48.2</td>\n",
       "      <td>20.60</td>\n",
       "      <td>37.6</td>\n",
       "      <td>1.10</td>\n",
       "      <td>77.29</td>\n",
       "      <td>6400</td>\n",
       "      <td>26</td>\n",
       "      <td>105780</td>\n",
       "    </tr>\n",
       "    <tr>\n",
       "      <th>1</th>\n",
       "      <td>Samoa</td>\n",
       "      <td>47.3</td>\n",
       "      <td>19.32</td>\n",
       "      <td>38.7</td>\n",
       "      <td>5.20</td>\n",
       "      <td>74.92</td>\n",
       "      <td>6300</td>\n",
       "      <td>29</td>\n",
       "      <td>204898</td>\n",
       "    </tr>\n",
       "    <tr>\n",
       "      <th>2</th>\n",
       "      <td>Micronesia, Federated States of</td>\n",
       "      <td>45.8</td>\n",
       "      <td>18.65</td>\n",
       "      <td>40.1</td>\n",
       "      <td>16.20</td>\n",
       "      <td>74.17</td>\n",
       "      <td>3500</td>\n",
       "      <td>3</td>\n",
       "      <td>101675</td>\n",
       "    </tr>\n",
       "    <tr>\n",
       "      <th>3</th>\n",
       "      <td>United States</td>\n",
       "      <td>36.2</td>\n",
       "      <td>12.33</td>\n",
       "      <td>41.1</td>\n",
       "      <td>3.89</td>\n",
       "      <td>80.43</td>\n",
       "      <td>60200</td>\n",
       "      <td>14</td>\n",
       "      <td>334998398</td>\n",
       "    </tr>\n",
       "    <tr>\n",
       "      <th>4</th>\n",
       "      <td>Jordan</td>\n",
       "      <td>35.5</td>\n",
       "      <td>22.79</td>\n",
       "      <td>33.7</td>\n",
       "      <td>19.10</td>\n",
       "      <td>75.75</td>\n",
       "      <td>9800</td>\n",
       "      <td>12</td>\n",
       "      <td>10909567</td>\n",
       "    </tr>\n",
       "    <tr>\n",
       "      <th>...</th>\n",
       "      <td>...</td>\n",
       "      <td>...</td>\n",
       "      <td>...</td>\n",
       "      <td>...</td>\n",
       "      <td>...</td>\n",
       "      <td>...</td>\n",
       "      <td>...</td>\n",
       "      <td>...</td>\n",
       "      <td>...</td>\n",
       "    </tr>\n",
       "    <tr>\n",
       "      <th>150</th>\n",
       "      <td>Cambodia</td>\n",
       "      <td>3.9</td>\n",
       "      <td>20.84</td>\n",
       "      <td>37.9</td>\n",
       "      <td>0.30</td>\n",
       "      <td>66.27</td>\n",
       "      <td>4200</td>\n",
       "      <td>2</td>\n",
       "      <td>17304363</td>\n",
       "    </tr>\n",
       "    <tr>\n",
       "      <th>151</th>\n",
       "      <td>India</td>\n",
       "      <td>3.9</td>\n",
       "      <td>17.53</td>\n",
       "      <td>35.7</td>\n",
       "      <td>8.50</td>\n",
       "      <td>70.03</td>\n",
       "      <td>6100</td>\n",
       "      <td>16</td>\n",
       "      <td>1339330514</td>\n",
       "    </tr>\n",
       "    <tr>\n",
       "      <th>152</th>\n",
       "      <td>Timor-Leste</td>\n",
       "      <td>3.8</td>\n",
       "      <td>31.45</td>\n",
       "      <td>28.7</td>\n",
       "      <td>4.40</td>\n",
       "      <td>69.62</td>\n",
       "      <td>3200</td>\n",
       "      <td>0</td>\n",
       "      <td>1413958</td>\n",
       "    </tr>\n",
       "    <tr>\n",
       "      <th>153</th>\n",
       "      <td>Bangladesh</td>\n",
       "      <td>3.6</td>\n",
       "      <td>17.88</td>\n",
       "      <td>32.4</td>\n",
       "      <td>4.40</td>\n",
       "      <td>74.43</td>\n",
       "      <td>4800</td>\n",
       "      <td>2</td>\n",
       "      <td>164098818</td>\n",
       "    </tr>\n",
       "    <tr>\n",
       "      <th>154</th>\n",
       "      <td>Vietnam</td>\n",
       "      <td>2.1</td>\n",
       "      <td>16.04</td>\n",
       "      <td>35.7</td>\n",
       "      <td>3.11</td>\n",
       "      <td>75.25</td>\n",
       "      <td>8200</td>\n",
       "      <td>1</td>\n",
       "      <td>102789598</td>\n",
       "    </tr>\n",
       "  </tbody>\n",
       "</table>\n",
       "<p>155 rows × 9 columns</p>\n",
       "</div>"
      ],
      "text/plain": [
       "                                name  Gini  birth_rate  obesity  \\\n",
       "0                              Tonga  48.2       20.60     37.6   \n",
       "1                              Samoa  47.3       19.32     38.7   \n",
       "2    Micronesia, Federated States of  45.8       18.65     40.1   \n",
       "3                      United States  36.2       12.33     41.1   \n",
       "4                             Jordan  35.5       22.79     33.7   \n",
       "..                               ...   ...         ...      ...   \n",
       "150                         Cambodia   3.9       20.84     37.9   \n",
       "151                            India   3.9       17.53     35.7   \n",
       "152                      Timor-Leste   3.8       31.45     28.7   \n",
       "153                       Bangladesh   3.6       17.88     32.4   \n",
       "154                          Vietnam   2.1       16.04     35.7   \n",
       "\n",
       "     unemployement_rate  life_expectancy  gdp_per_capita  energy_renewables  \\\n",
       "0                  1.10            77.29            6400                 26   \n",
       "1                  5.20            74.92            6300                 29   \n",
       "2                 16.20            74.17            3500                  3   \n",
       "3                  3.89            80.43           60200                 14   \n",
       "4                 19.10            75.75            9800                 12   \n",
       "..                  ...              ...             ...                ...   \n",
       "150                0.30            66.27            4200                  2   \n",
       "151                8.50            70.03            6100                 16   \n",
       "152                4.40            69.62            3200                  0   \n",
       "153                4.40            74.43            4800                  2   \n",
       "154                3.11            75.25            8200                  1   \n",
       "\n",
       "     population  \n",
       "0        105780  \n",
       "1        204898  \n",
       "2        101675  \n",
       "3     334998398  \n",
       "4      10909567  \n",
       "..          ...  \n",
       "150    17304363  \n",
       "151  1339330514  \n",
       "152     1413958  \n",
       "153   164098818  \n",
       "154   102789598  \n",
       "\n",
       "[155 rows x 9 columns]"
      ]
     },
     "execution_count": 5,
     "metadata": {},
     "output_type": "execute_result"
    }
   ],
   "source": [
    "df"
   ]
  },
  {
   "cell_type": "markdown",
   "metadata": {},
   "source": [
    "# Chi-Quadrat Test Obesitätsrate-> Gammaverteilt"
   ]
  },
  {
   "cell_type": "code",
   "execution_count": 6,
   "metadata": {},
   "outputs": [
    {
     "name": "stderr",
     "output_type": "stream",
     "text": [
      "<ipython-input-6-6c382c527bd4>:22: UserWarning: Boolean Series key will be reindexed to match DataFrame index.\n",
      "  gruppe2=df[32<=df['obesity']][df['obesity']<35.5]['obesity'].dropna() #21\n",
      "<ipython-input-6-6c382c527bd4>:23: UserWarning: Boolean Series key will be reindexed to match DataFrame index.\n",
      "  gruppe3=df[35.5<=df['obesity']][df['obesity']<39]['obesity'].dropna() #21\n",
      "<ipython-input-6-6c382c527bd4>:24: UserWarning: Boolean Series key will be reindexed to match DataFrame index.\n",
      "  gruppe4=df[39<=df['obesity']][df['obesity']<44]['obesity'].dropna() #18\n"
     ]
    }
   ],
   "source": [
    "def gammapar(mean, var):\n",
    "    #mean = al/be\n",
    "    #var = al/be**2\n",
    "    be = mean/var\n",
    "    return [mean*be, var*be**2], be\n",
    "\n",
    "def shapepar(av):\n",
    "    return av/(av-1)\n",
    "\n",
    "def prob(arg):\n",
    "    a, b = arg\n",
    "    p1 = stats.gamma.cdf(32, a, scale = 1/b) - stats.gamma.cdf(0, a, scale = 1/b)\n",
    "    p2 = stats.gamma.cdf(35.5, a, scale = 1/b) - stats.gamma.cdf(32, a, scale = 1/b)\n",
    "    p3 = stats.gamma.cdf(39, a, scale = 1/b) - stats.gamma.cdf(35.5, a, scale = 1/b)\n",
    "    p4 = stats.gamma.cdf(44, a, scale = 1/b) - stats.gamma.cdf(39, a, scale = 1/b)\n",
    "    p5 = 1 - stats.gamma.cdf(44, a, scale = 1/b)\n",
    "\n",
    "    p = [p1, p2, p3, p4, p5]\n",
    "    return p\n",
    "\n",
    "gruppe1=df[df['obesity']<32]['obesity'].dropna() #19\n",
    "gruppe2=df[32<=df['obesity']][df['obesity']<35.5]['obesity'].dropna() #21\n",
    "gruppe3=df[35.5<=df['obesity']][df['obesity']<39]['obesity'].dropna() #21\n",
    "gruppe4=df[39<=df['obesity']][df['obesity']<44]['obesity'].dropna() #18\n",
    "gruppe5=df[44<=df['obesity']]['obesity'].dropna() #21\n",
    "\n",
    "y = [len(gruppe1), len(gruppe2), len(gruppe3), len(gruppe4), len(gruppe5)]\n",
    "\n",
    "def test1(arg):\n",
    "    a, b = arg\n",
    "    p1 = prob([a, b])\n",
    "    t1 = 0\n",
    "    n = np.sum(y)\n",
    "    for i in range(5):\n",
    "        t1 = t1 + (y[i]-n*p1[i])**2/(n*p1[i])\n",
    "    return t1"
   ]
  },
  {
   "cell_type": "code",
   "execution_count": 7,
   "metadata": {},
   "outputs": [
    {
     "data": {
      "text/plain": [
       "155"
      ]
     },
     "execution_count": 7,
     "metadata": {},
     "output_type": "execute_result"
    }
   ],
   "source": [
    "np.sum(y)"
   ]
  },
  {
   "cell_type": "code",
   "execution_count": 8,
   "metadata": {},
   "outputs": [
    {
     "data": {
      "text/plain": [
       "[0.21962671854828109,\n",
       " 0.17131937938267988,\n",
       " 0.1835761849207203,\n",
       " 0.21534935875172323,\n",
       " 0.2101283583965955]"
      ]
     },
     "execution_count": 8,
     "metadata": {},
     "output_type": "execute_result"
    }
   ],
   "source": [
    "prob([24.85588863961961, 0.6529383508416304])"
   ]
  },
  {
   "cell_type": "code",
   "execution_count": 9,
   "metadata": {},
   "outputs": [],
   "source": [
    "#minimise teststat\n",
    "import scipy.optimize as optimize # https://docs.scipy.org/doc/scipy/reference/generated/scipy.optimize.minimize.html\n",
    "\n",
    "optab = optimize.minimize(test1, x0 = [24.85588863961961, 0.6529383508416304])"
   ]
  },
  {
   "cell_type": "code",
   "execution_count": 10,
   "metadata": {},
   "outputs": [
    {
     "data": {
      "text/plain": [
       "1.21893498672875"
      ]
     },
     "execution_count": 10,
     "metadata": {},
     "output_type": "execute_result"
    }
   ],
   "source": [
    "test1([optab.x[0],  optab.x[1]])"
   ]
  },
  {
   "cell_type": "code",
   "execution_count": 11,
   "metadata": {},
   "outputs": [
    {
     "name": "stdout",
     "output_type": "stream",
     "text": [
      "NICHT ABGELEHNT\n",
      "1.21893498672875 =< 4.605170185988092\n"
     ]
    }
   ],
   "source": [
    "alpha = 0.1\n",
    "\n",
    "if (test1([optab.x[0],  optab.x[1]]) >= stats.chi2.ppf(1-alpha, df=2, loc=0, scale=1)): #df should be = 3 in this case df = k - m - 1\n",
    "    print(\"ABGELEHNT\")\n",
    "    print(test1([optab.x[0],  optab.x[1]]), \">=\", stats.chi2.ppf(1-alpha, df=2, loc=0, scale=1))\n",
    "else:\n",
    "    print(\"NICHT ABGELEHNT\")\n",
    "    print(test1([optab.x[0],  optab.x[1]]), \"=<\", stats.chi2.ppf(1-alpha, df=2, loc=0, scale=1))"
   ]
  },
  {
   "cell_type": "code",
   "execution_count": 12,
   "metadata": {},
   "outputs": [],
   "source": [
    "obpar = gammapar(df['obesity'].mean(), df['obesity'].var())"
   ]
  },
  {
   "cell_type": "code",
   "execution_count": 218,
   "metadata": {},
   "outputs": [
    {
     "data": {
      "text/plain": [
       "32"
      ]
     },
     "execution_count": 218,
     "metadata": {},
     "output_type": "execute_result"
    }
   ],
   "source": [
    "len(df[df['obesity']>44])"
   ]
  },
  {
   "cell_type": "code",
   "execution_count": 128,
   "metadata": {},
   "outputs": [
    {
     "data": {
      "text/plain": [
       "count    155.000000\n",
       "mean      38.067742\n",
       "std        7.635588\n",
       "min       24.200000\n",
       "25%       32.800000\n",
       "50%       36.800000\n",
       "75%       42.700000\n",
       "max       63.000000\n",
       "Name: obesity, dtype: float64"
      ]
     },
     "execution_count": 128,
     "metadata": {},
     "output_type": "execute_result"
    }
   ],
   "source": [
    "df['obesity'].describe()"
   ]
  },
  {
   "cell_type": "code",
   "execution_count": 13,
   "metadata": {},
   "outputs": [
    {
     "data": {
      "text/plain": [
       "[]"
      ]
     },
     "execution_count": 13,
     "metadata": {},
     "output_type": "execute_result"
    },
    {
     "data": {
      "image/png": "[encoded data removed]",
      "text/plain": [
       "<Figure size 432x288 with 1 Axes>"
      ]
     },
     "metadata": {
      "needs_background": "light"
     },
     "output_type": "display_data"
    }
   ],
   "source": [
    "axis = np.linspace(0, 100, 100)\n",
    "\n",
    "plt.hist(df['obesity'], density = True, bins = 5)\n",
    "plt.plot(axis, stats.gamma.pdf(axis, obpar[0][0], scale = 1/obpar[1]))\n",
    "plt.plot()"
   ]
  },
  {
   "cell_type": "markdown",
   "metadata": {},
   "source": [
    "# Obesitätsrate->Betadistribution?"
   ]
  },
  {
   "cell_type": "code",
   "execution_count": 14,
   "metadata": {},
   "outputs": [
    {
     "name": "stderr",
     "output_type": "stream",
     "text": [
      "<ipython-input-14-89c5f69a62db>:13: UserWarning: Boolean Series key will be reindexed to match DataFrame index.\n",
      "  gruppe2=df[32<=df['obesity']][df['obesity']<35.5]['obesity'].dropna() #21\n",
      "<ipython-input-14-89c5f69a62db>:14: UserWarning: Boolean Series key will be reindexed to match DataFrame index.\n",
      "  gruppe3=df[35.5<=df['obesity']][df['obesity']<39]['obesity'].dropna() #21\n",
      "<ipython-input-14-89c5f69a62db>:15: UserWarning: Boolean Series key will be reindexed to match DataFrame index.\n",
      "  gruppe4=df[39<=df['obesity']][df['obesity']<44]['obesity'].dropna() #18\n"
     ]
    }
   ],
   "source": [
    "def prob2(arg):\n",
    "    a, b = arg\n",
    "    p1 = stats.beta.cdf(0.32, a, b) - stats.beta.cdf(0, a, b)\n",
    "    p2 = stats.beta.cdf(0.355, a, b) - stats.beta.cdf(0.32, a, b)\n",
    "    p3 = stats.beta.cdf(0.39, a, b) - stats.beta.cdf(0.355, a, b)\n",
    "    p4 = stats.beta.cdf(0.44, a, b) - stats.beta.cdf(0.39, a, b)\n",
    "    p5 = 1 - stats.beta.cdf(0.44, a, b)\n",
    "\n",
    "    p = [p1, p2, p3, p4, p5]\n",
    "    return p\n",
    "\n",
    "gruppe1=df[df['obesity']<32]['obesity'].dropna() #19\n",
    "gruppe2=df[32<=df['obesity']][df['obesity']<35.5]['obesity'].dropna() #21\n",
    "gruppe3=df[35.5<=df['obesity']][df['obesity']<39]['obesity'].dropna() #21\n",
    "gruppe4=df[39<=df['obesity']][df['obesity']<44]['obesity'].dropna() #18\n",
    "gruppe5=df[44<=df['obesity']]['obesity'].dropna() #21\n",
    "\n",
    "y = [len(gruppe1), len(gruppe2), len(gruppe3), len(gruppe4), len(gruppe5)]\n",
    "\n",
    "def test2(arg):\n",
    "    a, b = arg\n",
    "    p2 = prob2([a, b])\n",
    "    t1 = 0\n",
    "    n = np.sum(y)\n",
    "    for i in range(5):\n",
    "        t1 = t1 + (y[i]-n*p2[i])**2/(n*p2[i])\n",
    "    return t1"
   ]
  },
  {
   "cell_type": "code",
   "execution_count": 15,
   "metadata": {},
   "outputs": [
    {
     "data": {
      "text/plain": [
       "[0.6219772723200006,\n",
       " 0.06823688916132764,\n",
       " 0.06062992972367187,\n",
       " 0.07292174047499977,\n",
       " 0.17623416832000016]"
      ]
     },
     "execution_count": 15,
     "metadata": {},
     "output_type": "execute_result"
    }
   ],
   "source": [
    "prob2([2, 5])"
   ]
  },
  {
   "cell_type": "code",
   "execution_count": 16,
   "metadata": {},
   "outputs": [],
   "source": [
    "#minimise teststat\n",
    "import scipy.optimize as optimize # https://docs.scipy.org/doc/scipy/reference/generated/scipy.optimize.minimize.html\n",
    "\n",
    "optab2 = optimize.minimize(test2, x0 = [2, 5])"
   ]
  },
  {
   "cell_type": "code",
   "execution_count": 17,
   "metadata": {},
   "outputs": [
    {
     "data": {
      "text/plain": [
       "      fun: 2.055050758148447\n",
       " hess_inv: array([[3.65037839, 5.8845215 ],\n",
       "       [5.8845215 , 9.73740971]])\n",
       "      jac: array([8.07642937e-06, 2.02655792e-06])\n",
       "  message: 'Optimization terminated successfully.'\n",
       "     nfev: 51\n",
       "      nit: 16\n",
       "     njev: 17\n",
       "   status: 0\n",
       "  success: True\n",
       "        x: array([16.61856532, 27.40880635])"
      ]
     },
     "execution_count": 17,
     "metadata": {},
     "output_type": "execute_result"
    }
   ],
   "source": [
    "optab2"
   ]
  },
  {
   "cell_type": "code",
   "execution_count": 18,
   "metadata": {},
   "outputs": [
    {
     "data": {
      "text/plain": [
       "2.055050758148447"
      ]
     },
     "execution_count": 18,
     "metadata": {},
     "output_type": "execute_result"
    }
   ],
   "source": [
    "test2(optab2.x)"
   ]
  },
  {
   "cell_type": "code",
   "execution_count": 19,
   "metadata": {},
   "outputs": [
    {
     "data": {
      "text/plain": [
       "[]"
      ]
     },
     "execution_count": 19,
     "metadata": {},
     "output_type": "execute_result"
    },
    {
     "data": {
      "image/png": "[encoded data removed]",
      "text/plain": [
       "<Figure size 432x288 with 1 Axes>"
      ]
     },
     "metadata": {
      "needs_background": "light"
     },
     "output_type": "display_data"
    }
   ],
   "source": [
    "axis = np.linspace(0, 1, 100)\n",
    "\n",
    "plt.hist(df['obesity']/100, density = True, bins = 5)\n",
    "plt.plot(axis, stats.beta.pdf(axis, a = optab2.x[0], b = optab2.x[1]))\n",
    "#plt.plot(axis, stats.beta.pdf(axis, 16.6, 27.4))\n",
    "plt.plot()"
   ]
  },
  {
   "cell_type": "code",
   "execution_count": 20,
   "metadata": {},
   "outputs": [
    {
     "name": "stdout",
     "output_type": "stream",
     "text": [
      "NICHT ABGELEHNT\n",
      "2.055050758148447 =< 4.605170185988092\n"
     ]
    }
   ],
   "source": [
    "alpha = 0.1\n",
    "\n",
    "if (test2(optab2.x) >= stats.chi2.ppf(1-alpha, df=2, loc=0, scale=1)): #df should be = 2 in this case df = k - m - 1\n",
    "    print(\"ABGELEHNT\")\n",
    "    print(test2(optab2.x), \">=\", stats.chi2.ppf(1-alpha, df=2, loc=0, scale=1))\n",
    "else:\n",
    "    print(\"NICHT ABGELEHNT\")\n",
    "    print(test2(optab2.x), \"=<\", stats.chi2.ppf(1-alpha, df=2, loc=0, scale=1))"
   ]
  },
  {
   "cell_type": "markdown",
   "metadata": {},
   "source": [
    "# Arbeitslosigkeitsrate->Betaverteilung?"
   ]
  },
  {
   "cell_type": "code",
   "execution_count": 21,
   "metadata": {},
   "outputs": [
    {
     "data": {
      "text/plain": [
       "count    155.000000\n",
       "mean       9.880129\n",
       "std       10.439814\n",
       "min        0.300000\n",
       "25%        3.945000\n",
       "50%        6.550000\n",
       "75%       11.500000\n",
       "max       77.000000\n",
       "Name: unemployement_rate, dtype: float64"
      ]
     },
     "execution_count": 21,
     "metadata": {},
     "output_type": "execute_result"
    }
   ],
   "source": [
    "df['unemployement_rate'].describe()"
   ]
  },
  {
   "cell_type": "code",
   "execution_count": 22,
   "metadata": {},
   "outputs": [
    {
     "name": "stderr",
     "output_type": "stream",
     "text": [
      "<ipython-input-22-4f8950de3fe5>:13: UserWarning: Boolean Series key will be reindexed to match DataFrame index.\n",
      "  gruppe2=df[3.5<=df['unemployement_rate']][df['unemployement_rate']<5.5]['unemployement_rate'].dropna() #21\n",
      "<ipython-input-22-4f8950de3fe5>:14: UserWarning: Boolean Series key will be reindexed to match DataFrame index.\n",
      "  gruppe3=df[5.5<=df['unemployement_rate']][df['unemployement_rate']<8]['unemployement_rate'].dropna() #21\n",
      "<ipython-input-22-4f8950de3fe5>:15: UserWarning: Boolean Series key will be reindexed to match DataFrame index.\n",
      "  gruppe4=df[8<=df['unemployement_rate']][df['unemployement_rate']<13]['unemployement_rate'].dropna() #18\n"
     ]
    }
   ],
   "source": [
    "def prob3(arg):\n",
    "    a, b = arg\n",
    "    p1 = stats.beta.cdf(0.035, a, b) - stats.beta.cdf(0, a, b)\n",
    "    p2 = stats.beta.cdf(0.055, a, b) - stats.beta.cdf(0.035, a, b)\n",
    "    p3 = stats.beta.cdf(0.08, a, b) - stats.beta.cdf(0.055, a, b)\n",
    "    p4 = stats.beta.cdf(0.13, a, b) - stats.beta.cdf(0.08, a, b)\n",
    "    p5 = 1 - stats.beta.cdf(0.13, a, b)\n",
    "\n",
    "    p = [p1, p2, p3, p4, p5]\n",
    "    return p\n",
    "\n",
    "gruppe1=df[df['unemployement_rate']<3.5]['unemployement_rate'].dropna() #19\n",
    "gruppe2=df[3.5<=df['unemployement_rate']][df['unemployement_rate']<5.5]['unemployement_rate'].dropna() #21\n",
    "gruppe3=df[5.5<=df['unemployement_rate']][df['unemployement_rate']<8]['unemployement_rate'].dropna() #21\n",
    "gruppe4=df[8<=df['unemployement_rate']][df['unemployement_rate']<13]['unemployement_rate'].dropna() #18\n",
    "gruppe5=df[13<=df['unemployement_rate']]['unemployement_rate'].dropna() #21\n",
    "\n",
    "y = [len(gruppe1), len(gruppe2), len(gruppe3), len(gruppe4), len(gruppe5)]\n",
    "\n",
    "def test3(arg):\n",
    "    a, b = arg\n",
    "    p2 = prob3([a, b])\n",
    "    t1 = 0\n",
    "    n = np.sum(y)\n",
    "    for i in range(5):\n",
    "        t1 = t1 + (y[i]-n*p2[i])**2/(n*p2[i])\n",
    "    return t1"
   ]
  },
  {
   "cell_type": "code",
   "execution_count": 29,
   "metadata": {},
   "outputs": [
    {
     "data": {
      "text/plain": [
       "[34, 31, 30, 27, 33]"
      ]
     },
     "execution_count": 29,
     "metadata": {},
     "output_type": "execute_result"
    }
   ],
   "source": [
    "y"
   ]
  },
  {
   "cell_type": "code",
   "execution_count": 24,
   "metadata": {},
   "outputs": [],
   "source": [
    "#minimise teststat\n",
    "import scipy.optimize as optimize # https://docs.scipy.org/doc/scipy/reference/generated/scipy.optimize.minimize.html\n",
    "\n",
    "optab3 = optimize.minimize(test3, x0 = [2, 5])"
   ]
  },
  {
   "cell_type": "code",
   "execution_count": 25,
   "metadata": {},
   "outputs": [
    {
     "data": {
      "text/plain": [
       "      fun: 4.354175238945333\n",
       " hess_inv: array([[0.0277273 , 0.31344531],\n",
       "       [0.31344531, 4.26802543]])\n",
       "      jac: array([1.49011612e-06, 6.55651093e-07])\n",
       "  message: 'Optimization terminated successfully.'\n",
       "     nfev: 48\n",
       "      nit: 15\n",
       "     njev: 16\n",
       "   status: 0\n",
       "  success: True\n",
       "        x: array([ 1.60040913, 17.60845438])"
      ]
     },
     "execution_count": 25,
     "metadata": {},
     "output_type": "execute_result"
    }
   ],
   "source": [
    "optab3"
   ]
  },
  {
   "cell_type": "code",
   "execution_count": 26,
   "metadata": {},
   "outputs": [
    {
     "data": {
      "text/plain": [
       "4.354175238945333"
      ]
     },
     "execution_count": 26,
     "metadata": {},
     "output_type": "execute_result"
    }
   ],
   "source": [
    "test3(optab3.x)"
   ]
  },
  {
   "cell_type": "code",
   "execution_count": 27,
   "metadata": {},
   "outputs": [
    {
     "data": {
      "text/plain": [
       "[]"
      ]
     },
     "execution_count": 27,
     "metadata": {},
     "output_type": "execute_result"
    },
    {
     "data": {
      "image/png": "[encoded data removed]",
      "text/plain": [
       "<Figure size 432x288 with 1 Axes>"
      ]
     },
     "metadata": {
      "needs_background": "light"
     },
     "output_type": "display_data"
    }
   ],
   "source": [
    "axis = np.linspace(0, 1, 200)\n",
    "\n",
    "plt.hist(df['unemployement_rate']/100, density = True, bins = 20)\n",
    "plt.plot(axis, stats.beta.pdf(axis, a = optab3.x[0], b = optab3.x[1]))\n",
    "#plt.plot(axis, stats.beta.pdf(axis, 16.6, 27.4))\n",
    "plt.plot()"
   ]
  },
  {
   "cell_type": "code",
   "execution_count": 28,
   "metadata": {},
   "outputs": [
    {
     "name": "stdout",
     "output_type": "stream",
     "text": [
      "NICHT ABGELEHNT\n",
      "4.354175238945333 =< 4.605170185988092\n"
     ]
    }
   ],
   "source": [
    "alpha = 0.1\n",
    "\n",
    "if (test3(optab3.x) >= stats.chi2.ppf(1-alpha, df=2, loc=0, scale=1)): #df should be = 2 in this case df = k - m - 1\n",
    "    print(\"ABGELEHNT\")\n",
    "    print(test3(optab3.x), \">=\", stats.chi2.ppf(1-alpha, df=2, loc=0, scale=1))\n",
    "else:\n",
    "    print(\"NICHT ABGELEHNT\")\n",
    "    print(test3(optab3.x), \"=<\", stats.chi2.ppf(1-alpha, df=2, loc=0, scale=1))"
   ]
  },
  {
   "cell_type": "markdown",
   "metadata": {},
   "source": [
    "# BIP pro Kopf --> Gammaverteilung?"
   ]
  },
  {
   "cell_type": "code",
   "execution_count": 30,
   "metadata": {},
   "outputs": [
    {
     "data": {
      "text/plain": [
       "count       155.000000\n",
       "mean      19666.477419\n",
       "std       20518.675344\n",
       "min         900.000000\n",
       "25%        4750.000000\n",
       "50%       12300.000000\n",
       "75%       28600.000000\n",
       "max      110300.000000\n",
       "Name: gdp_per_capita, dtype: float64"
      ]
     },
     "execution_count": 30,
     "metadata": {},
     "output_type": "execute_result"
    }
   ],
   "source": [
    "df['gdp_per_capita'].describe()"
   ]
  },
  {
   "cell_type": "code",
   "execution_count": 31,
   "metadata": {},
   "outputs": [
    {
     "name": "stderr",
     "output_type": "stream",
     "text": [
      "<ipython-input-31-d05f0e338c2b>:19: UserWarning: Boolean Series key will be reindexed to match DataFrame index.\n",
      "  gruppe2=df[4000<=df['gdp_per_capita']][df['gdp_per_capita']<9000]['gdp_per_capita'].dropna() #21\n",
      "<ipython-input-31-d05f0e338c2b>:20: UserWarning: Boolean Series key will be reindexed to match DataFrame index.\n",
      "  gruppe3=df[9000<=df['gdp_per_capita']][df['gdp_per_capita']<15000]['gdp_per_capita'].dropna() #21\n",
      "<ipython-input-31-d05f0e338c2b>:21: UserWarning: Boolean Series key will be reindexed to match DataFrame index.\n",
      "  gruppe4=df[15000<=df['gdp_per_capita']][df['gdp_per_capita']<35000]['gdp_per_capita'].dropna() #18\n"
     ]
    }
   ],
   "source": [
    "def gammapar(mean, var):\n",
    "    #mean = al/be\n",
    "    #var = al/be**2\n",
    "    be = mean/var\n",
    "    return [mean*be, var*be**2], be\n",
    "\n",
    "def prob4(arg):\n",
    "    a, b = arg\n",
    "    p1 = stats.gamma.cdf(4000, a, scale = 1/b) - stats.gamma.cdf(0, a, scale = 1/b)\n",
    "    p2 = stats.gamma.cdf(9000, a, scale = 1/b) - stats.gamma.cdf(4000, a, scale = 1/b)\n",
    "    p3 = stats.gamma.cdf(15000, a, scale = 1/b) - stats.gamma.cdf(9000, a, scale = 1/b)\n",
    "    p4 = stats.gamma.cdf(35000, a, scale = 1/b) - stats.gamma.cdf(15000, a, scale = 1/b)\n",
    "    p5 = 1 - stats.gamma.cdf(35000, a, scale = 1/b)\n",
    "\n",
    "    p = [p1, p2, p3, p4, p5]\n",
    "    return p\n",
    "\n",
    "gruppe1=df[df['gdp_per_capita']<4000]['gdp_per_capita'].dropna() #19\n",
    "gruppe2=df[4000<=df['gdp_per_capita']][df['gdp_per_capita']<9000]['gdp_per_capita'].dropna() #21\n",
    "gruppe3=df[9000<=df['gdp_per_capita']][df['gdp_per_capita']<15000]['gdp_per_capita'].dropna() #21\n",
    "gruppe4=df[15000<=df['gdp_per_capita']][df['gdp_per_capita']<35000]['gdp_per_capita'].dropna() #18\n",
    "gruppe5=df[35000<=df['gdp_per_capita']]['gdp_per_capita'].dropna() #21\n",
    "\n",
    "y = [len(gruppe1), len(gruppe2), len(gruppe3), len(gruppe4), len(gruppe5)]\n",
    "\n",
    "def test4(arg):\n",
    "    a, b = arg\n",
    "    p1 = prob4([a, b])\n",
    "    t1 = 0\n",
    "    n = np.sum(y)\n",
    "    for i in range(5):\n",
    "        t1 = t1 + (y[i]-n*p1[i])**2/(n*p1[i])\n",
    "    return t1"
   ]
  },
  {
   "cell_type": "code",
   "execution_count": 33,
   "metadata": {},
   "outputs": [
    {
     "data": {
      "text/plain": [
       "[31, 33, 28, 30, 33]"
      ]
     },
     "execution_count": 33,
     "metadata": {},
     "output_type": "execute_result"
    }
   ],
   "source": [
    "y"
   ]
  },
  {
   "cell_type": "code",
   "execution_count": 32,
   "metadata": {},
   "outputs": [],
   "source": [
    "initialguess = gammapar(df['gdp_per_capita'].mean(), df['gdp_per_capita'].var())"
   ]
  },
  {
   "cell_type": "code",
   "execution_count": 433,
   "metadata": {},
   "outputs": [
    {
     "data": {
      "text/plain": [
       "([0.9186593841854965, 0.9186593841854965], 4.6711943608233285e-05)"
      ]
     },
     "execution_count": 433,
     "metadata": {},
     "output_type": "execute_result"
    }
   ],
   "source": [
    "initialguess"
   ]
  },
  {
   "cell_type": "code",
   "execution_count": 432,
   "metadata": {},
   "outputs": [
    {
     "data": {
      "text/plain": [
       "7.301662249668125"
      ]
     },
     "execution_count": 432,
     "metadata": {},
     "output_type": "execute_result"
    }
   ],
   "source": [
    "test4([initialguess[0][0], initialguess[1]])"
   ]
  },
  {
   "cell_type": "code",
   "execution_count": 422,
   "metadata": {},
   "outputs": [
    {
     "data": {
      "text/plain": [
       "[0.20254976713116618,\n",
       " 0.18126373015884562,\n",
       " 0.15994787771612218,\n",
       " 0.2844360602923859,\n",
       " 0.17180256470148014]"
      ]
     },
     "execution_count": 422,
     "metadata": {},
     "output_type": "execute_result"
    }
   ],
   "source": [
    "prob4([initialguess[0][0], initialguess[1]])"
   ]
  },
  {
   "cell_type": "code",
   "execution_count": 528,
   "metadata": {},
   "outputs": [
    {
     "name": "stderr",
     "output_type": "stream",
     "text": [
      "<ipython-input-420-d05f0e338c2b>:9: RuntimeWarning: divide by zero encountered in double_scalars\n",
      "  p1 = stats.gamma.cdf(4000, a, scale = 1/b) - stats.gamma.cdf(0, a, scale = 1/b)\n",
      "<ipython-input-420-d05f0e338c2b>:10: RuntimeWarning: divide by zero encountered in double_scalars\n",
      "  p2 = stats.gamma.cdf(9000, a, scale = 1/b) - stats.gamma.cdf(4000, a, scale = 1/b)\n",
      "<ipython-input-420-d05f0e338c2b>:11: RuntimeWarning: divide by zero encountered in double_scalars\n",
      "  p3 = stats.gamma.cdf(15000, a, scale = 1/b) - stats.gamma.cdf(9000, a, scale = 1/b)\n",
      "<ipython-input-420-d05f0e338c2b>:12: RuntimeWarning: divide by zero encountered in double_scalars\n",
      "  p4 = stats.gamma.cdf(35000, a, scale = 1/b) - stats.gamma.cdf(15000, a, scale = 1/b)\n",
      "<ipython-input-420-d05f0e338c2b>:13: RuntimeWarning: divide by zero encountered in double_scalars\n",
      "  p5 = 1 - stats.gamma.cdf(35000, a, scale = 1/b)\n",
      "<ipython-input-420-d05f0e338c2b>:32: RuntimeWarning: divide by zero encountered in double_scalars\n",
      "  t1 = t1 + (y[i]-n*p1[i])**2/(n*p1[i])\n",
      "C:\\ProgramData\\Anaconda3\\lib\\site-packages\\scipy\\optimize\\_numdiff.py:497: RuntimeWarning: invalid value encountered in subtract\n",
      "  df = fun(x) - f0\n"
     ]
    }
   ],
   "source": [
    "#minimise teststat\n",
    "import scipy.optimize as optimize # https://docs.scipy.org/doc/scipy/reference/generated/scipy.optimize.minimize.html\n",
    "\n",
    "optab4 = optimize.minimize(test4, x0 = [initialguess[0][0], initialguess[1]], bounds = [(0, 2), (0,0.0001)])"
   ]
  },
  {
   "cell_type": "code",
   "execution_count": 529,
   "metadata": {},
   "outputs": [
    {
     "data": {
      "text/plain": [
       "      fun: 7.301662249668125\n",
       " hess_inv: <2x2 LbfgsInvHessProduct with dtype=float64>\n",
       "      jac: array([-1.67257514e+00,  2.48568797e+05])\n",
       "  message: b'CONVERGENCE: REL_REDUCTION_OF_F_<=_FACTR*EPSMCH'\n",
       "     nfev: 9\n",
       "      nit: 1\n",
       "     njev: 3\n",
       "   status: 0\n",
       "  success: True\n",
       "        x: array([9.18659384e-01, 4.67119436e-05])"
      ]
     },
     "execution_count": 529,
     "metadata": {},
     "output_type": "execute_result"
    }
   ],
   "source": [
    "optab4"
   ]
  },
  {
   "cell_type": "code",
   "execution_count": 531,
   "metadata": {},
   "outputs": [
    {
     "data": {
      "text/plain": [
       "7.301662247936912"
      ]
     },
     "execution_count": 531,
     "metadata": {},
     "output_type": "execute_result"
    }
   ],
   "source": [
    "test4([9.18659384e-01, 4.67119436e-05])"
   ]
  },
  {
   "cell_type": "code",
   "execution_count": 541,
   "metadata": {},
   "outputs": [
    {
     "data": {
      "text/plain": [
       "[]"
      ]
     },
     "execution_count": 541,
     "metadata": {},
     "output_type": "execute_result"
    },
    {
     "data": {
      "image/png": "[encoded data removed]",
      "text/plain": [
       "<Figure size 432x288 with 1 Axes>"
      ]
     },
     "metadata": {
      "needs_background": "light"
     },
     "output_type": "display_data"
    }
   ],
   "source": [
    "axis = np.linspace(0, 145000, 200)\n",
    "\n",
    "plt.hist(df['gdp_per_capita'], density = True, bins = 20)\n",
    "plt.plot(axis, stats.gamma.pdf(axis, optab4.x[0], scale = 1/optab4.x[1]))\n",
    "#plt.plot(axis, stats.beta.pdf(axis, 16.6, 27.4))\n",
    "plt.plot()"
   ]
  },
  {
   "cell_type": "code",
   "execution_count": 539,
   "metadata": {},
   "outputs": [
    {
     "name": "stdout",
     "output_type": "stream",
     "text": [
      "ABGELEHNT\n",
      "7.301662249668125 >= 4.605170185988092\n"
     ]
    }
   ],
   "source": [
    "alpha = 0.1\n",
    "\n",
    "if (test4(optab4.x) >= stats.chi2.ppf(1-alpha, df=2, loc=0, scale=1)): #df should be = 2 in this case df = k - m - 1\n",
    "    print(\"ABGELEHNT\")\n",
    "    print(test4(optab4.x), \">=\", stats.chi2.ppf(1-alpha, df=2, loc=0, scale=1))\n",
    "else:\n",
    "    print(\"NICHT ABGELEHNT\")\n",
    "    print(test4(optab4.x), \"=<\", stats.chi2.ppf(1-alpha, df=2, loc=0, scale=1))"
   ]
  },
  {
   "cell_type": "markdown",
   "metadata": {},
   "source": [
    "# Geburtenrate->Gammaverteilung?"
   ]
  },
  {
   "cell_type": "code",
   "execution_count": 542,
   "metadata": {},
   "outputs": [
    {
     "data": {
      "text/plain": [
       "count    155.000000\n",
       "mean      18.682129\n",
       "std        9.216720\n",
       "min        6.890000\n",
       "25%       11.325000\n",
       "50%       16.510000\n",
       "75%       23.140000\n",
       "max       47.280000\n",
       "Name: birth_rate, dtype: float64"
      ]
     },
     "execution_count": 542,
     "metadata": {},
     "output_type": "execute_result"
    }
   ],
   "source": [
    "df['birth_rate'].describe()"
   ]
  },
  {
   "cell_type": "code",
   "execution_count": 561,
   "metadata": {},
   "outputs": [
    {
     "name": "stderr",
     "output_type": "stream",
     "text": [
      "<ipython-input-561-d6a070dd6576>:13: UserWarning: Boolean Series key will be reindexed to match DataFrame index.\n",
      "  gruppe2=df[10.5<=df['birth_rate']][df['birth_rate']<15]['birth_rate'].dropna() #21\n",
      "<ipython-input-561-d6a070dd6576>:14: UserWarning: Boolean Series key will be reindexed to match DataFrame index.\n",
      "  gruppe3=df[15<=df['birth_rate']][df['birth_rate']<18]['birth_rate'].dropna() #21\n",
      "<ipython-input-561-d6a070dd6576>:15: UserWarning: Boolean Series key will be reindexed to match DataFrame index.\n",
      "  gruppe4=df[18<=df['birth_rate']][df['birth_rate']<27]['birth_rate'].dropna() #18\n"
     ]
    }
   ],
   "source": [
    "def prob5(arg):\n",
    "    a, b = arg\n",
    "    p1 = stats.gamma.cdf(10.5, a, scale = 1/b) - stats.gamma.cdf(0, a, scale = 1/b)\n",
    "    p2 = stats.gamma.cdf(15, a, scale = 1/b) - stats.gamma.cdf(10.5, a, scale = 1/b)\n",
    "    p3 = stats.gamma.cdf(18, a, scale = 1/b) - stats.gamma.cdf(15, a, scale = 1/b)\n",
    "    p4 = stats.gamma.cdf(27, a, scale = 1/b) - stats.gamma.cdf(18, a, scale = 1/b)\n",
    "    p5 = 1 - stats.gamma.cdf(27, a, scale = 1/b)\n",
    "\n",
    "    p = [p1, p2, p3, p4, p5]\n",
    "    return p\n",
    "\n",
    "gruppe1=df[df['birth_rate']<10.5]['birth_rate'].dropna() #19\n",
    "gruppe2=df[10.5<=df['birth_rate']][df['birth_rate']<15]['birth_rate'].dropna() #21\n",
    "gruppe3=df[15<=df['birth_rate']][df['birth_rate']<18]['birth_rate'].dropna() #21\n",
    "gruppe4=df[18<=df['birth_rate']][df['birth_rate']<27]['birth_rate'].dropna() #18\n",
    "gruppe5=df[27<=df['birth_rate']]['birth_rate'].dropna() #21\n",
    "\n",
    "y = [len(gruppe1), len(gruppe2), len(gruppe3), len(gruppe4), len(gruppe5)]\n",
    "\n",
    "def test5(arg):\n",
    "    a, b = arg\n",
    "    p1 = prob5([a, b])\n",
    "    t1 = 0\n",
    "    n = np.sum(y)\n",
    "    for i in range(5):\n",
    "        t1 = t1 + (y[i]-n*p1[i])**2/(n*p1[i])\n",
    "    return t1"
   ]
  },
  {
   "cell_type": "code",
   "execution_count": 569,
   "metadata": {},
   "outputs": [
    {
     "data": {
      "text/plain": [
       "([4.108657830695795, 4.108657830695795], 0.21992449702073322)"
      ]
     },
     "execution_count": 569,
     "metadata": {},
     "output_type": "execute_result"
    }
   ],
   "source": [
    "gammapar(df['birth_rate'].mean(), df['birth_rate'].var())"
   ]
  },
  {
   "cell_type": "code",
   "execution_count": 565,
   "metadata": {},
   "outputs": [
    {
     "data": {
      "text/plain": [
       "[0.18574101177143118,\n",
       " 0.21123898580400133,\n",
       " 0.13921676415975676,\n",
       " 0.29408641781551337,\n",
       " 0.16971682044929737]"
      ]
     },
     "execution_count": 565,
     "metadata": {},
     "output_type": "execute_result"
    }
   ],
   "source": [
    "prob5([gammapar(df['birth_rate'].mean(), df['birth_rate'].var())[0][0], gammapar(df['birth_rate'].mean(), df['birth_rate'].var())[1]])"
   ]
  },
  {
   "cell_type": "code",
   "execution_count": 570,
   "metadata": {},
   "outputs": [],
   "source": [
    "optab5 = optimize.minimize(test5, x0 = [4.108657830695795, 0.21992449702073322])"
   ]
  },
  {
   "cell_type": "code",
   "execution_count": 571,
   "metadata": {},
   "outputs": [
    {
     "data": {
      "text/plain": [
       "      fun: 5.97472124561184\n",
       " hess_inv: array([[0.15367306, 0.00850454],\n",
       "       [0.00850454, 0.00050811]])\n",
       "      jac: array([ 5.54323196e-06, -9.65595245e-06])\n",
       "  message: 'Optimization terminated successfully.'\n",
       "     nfev: 33\n",
       "      nit: 7\n",
       "     njev: 11\n",
       "   status: 0\n",
       "  success: True\n",
       "        x: array([3.60081555, 0.1943843 ])"
      ]
     },
     "execution_count": 571,
     "metadata": {},
     "output_type": "execute_result"
    }
   ],
   "source": [
    "optab5"
   ]
  },
  {
   "cell_type": "code",
   "execution_count": 586,
   "metadata": {},
   "outputs": [
    {
     "data": {
      "text/plain": [
       "[]"
      ]
     },
     "execution_count": 586,
     "metadata": {},
     "output_type": "execute_result"
    },
    {
     "data": {
      "image/png": "[encoded data removed]",
      "text/plain": [
       "<Figure size 432x288 with 1 Axes>"
      ]
     },
     "metadata": {
      "needs_background": "light"
     },
     "output_type": "display_data"
    }
   ],
   "source": [
    "axis = np.linspace(0, 100, 200)\n",
    "\n",
    "plt.hist(df['birth_rate'], density = True, bins = 12)\n",
    "plt.plot(axis, stats.gamma.pdf(axis, optab5.x[0], scale = 1/optab5.x[1]))\n",
    "#plt.plot(axis, stats.beta.pdf(axis, 16.6, 27.4))\n",
    "plt.plot()"
   ]
  },
  {
   "cell_type": "code",
   "execution_count": 587,
   "metadata": {},
   "outputs": [
    {
     "name": "stdout",
     "output_type": "stream",
     "text": [
      "ABGELEHNT\n",
      "5.97472124561184 >= 4.605170185988092\n"
     ]
    }
   ],
   "source": [
    "alpha = 0.1\n",
    "\n",
    "if (test5(optab5.x) >= stats.chi2.ppf(1-alpha, df=2, loc=0, scale=1)): #df should be = 2 in this case df = k - m - 1\n",
    "    print(\"ABGELEHNT\")\n",
    "    print(test5(optab5.x), \">=\", stats.chi2.ppf(1-alpha, df=2, loc=0, scale=1))\n",
    "else:\n",
    "    print(\"NICHT ABGELEHNT\")\n",
    "    print(test5(optab5.x), \"=<\", stats.chi2.ppf(1-alpha, df=2, loc=0, scale=1))"
   ]
  },
  {
   "cell_type": "markdown",
   "metadata": {},
   "source": [
    "# Lebenserwartung->Gammaverteilung?"
   ]
  },
  {
   "cell_type": "code",
   "execution_count": 588,
   "metadata": {},
   "outputs": [
    {
     "data": {
      "text/plain": [
       "count    155.000000\n",
       "mean      73.535419\n",
       "std        6.941506\n",
       "min       53.250000\n",
       "25%       69.345000\n",
       "50%       74.960000\n",
       "75%       78.360000\n",
       "max       86.190000\n",
       "Name: life_expectancy, dtype: float64"
      ]
     },
     "execution_count": 588,
     "metadata": {},
     "output_type": "execute_result"
    }
   ],
   "source": [
    "df['life_expectancy'].describe()"
   ]
  },
  {
   "cell_type": "code",
   "execution_count": 632,
   "metadata": {},
   "outputs": [
    {
     "name": "stderr",
     "output_type": "stream",
     "text": [
      "<ipython-input-632-e0845b302c68>:13: UserWarning: Boolean Series key will be reindexed to match DataFrame index.\n",
      "  gruppe2=df[67<=df['life_expectancy']][df['life_expectancy']<73]['life_expectancy'].dropna() #21\n",
      "<ipython-input-632-e0845b302c68>:14: UserWarning: Boolean Series key will be reindexed to match DataFrame index.\n",
      "  gruppe3=df[73<=df['life_expectancy']][df['life_expectancy']<76.5]['life_expectancy'].dropna() #21\n",
      "<ipython-input-632-e0845b302c68>:15: UserWarning: Boolean Series key will be reindexed to match DataFrame index.\n",
      "  gruppe4=df[76.5<=df['life_expectancy']][df['life_expectancy']<79.5]['life_expectancy'].dropna() #18\n"
     ]
    }
   ],
   "source": [
    "def prob6(arg):\n",
    "    a, b = arg\n",
    "    p1 = stats.gamma.cdf(67, a, scale = 1/b) - stats.gamma.cdf(0, a, scale = 1/b)\n",
    "    p2 = stats.gamma.cdf(73, a, scale = 1/b) - stats.gamma.cdf(67, a, scale = 1/b)\n",
    "    p3 = stats.gamma.cdf(76.5, a, scale = 1/b) - stats.gamma.cdf(73, a, scale = 1/b)\n",
    "    p4 = stats.gamma.cdf(79.5, a, scale = 1/b) - stats.gamma.cdf(76.5, a, scale = 1/b)\n",
    "    p5 = 1 - stats.gamma.cdf(79.5, a, scale = 1/b)\n",
    "\n",
    "    p = [p1, p2, p3, p4, p5]\n",
    "    return p\n",
    "\n",
    "gruppe1=df[df['life_expectancy']<67]['life_expectancy'].dropna() #19\n",
    "gruppe2=df[67<=df['life_expectancy']][df['life_expectancy']<73]['life_expectancy'].dropna() #21\n",
    "gruppe3=df[73<=df['life_expectancy']][df['life_expectancy']<76.5]['life_expectancy'].dropna() #21\n",
    "gruppe4=df[76.5<=df['life_expectancy']][df['life_expectancy']<79.5]['life_expectancy'].dropna() #18\n",
    "gruppe5=df[79.5<=df['life_expectancy']]['life_expectancy'].dropna() #21\n",
    "\n",
    "y = [len(gruppe1), len(gruppe2), len(gruppe3), len(gruppe4), len(gruppe5)]\n",
    "\n",
    "def test6(arg):\n",
    "    a, b = arg\n",
    "    p1 = prob6([a, b])\n",
    "    t1 = 0\n",
    "    n = np.sum(y)\n",
    "    for i in range(5):\n",
    "        t1 = t1 + (y[i]-n*p1[i])**2/(n*p1[i])\n",
    "    return t1"
   ]
  },
  {
   "cell_type": "code",
   "execution_count": 633,
   "metadata": {},
   "outputs": [
    {
     "data": {
      "text/plain": [
       "[32, 32, 31, 28, 32]"
      ]
     },
     "execution_count": 633,
     "metadata": {},
     "output_type": "execute_result"
    }
   ],
   "source": [
    "y"
   ]
  },
  {
   "cell_type": "code",
   "execution_count": 634,
   "metadata": {},
   "outputs": [
    {
     "data": {
      "text/plain": [
       "([112.22401114261095, 112.22401114261093], 1.5261218624603716)"
      ]
     },
     "execution_count": 634,
     "metadata": {},
     "output_type": "execute_result"
    }
   ],
   "source": [
    "gammapar(df['life_expectancy'].mean(), df['life_expectancy'].var())"
   ]
  },
  {
   "cell_type": "code",
   "execution_count": 635,
   "metadata": {},
   "outputs": [],
   "source": [
    "optab6 = optimize.minimize(test6, x0 = [112.22401114261095, 1.5261218624603716])"
   ]
  },
  {
   "cell_type": "code",
   "execution_count": 636,
   "metadata": {},
   "outputs": [
    {
     "data": {
      "text/plain": [
       "      fun: 7.491325406940097\n",
       " hess_inv: array([[3.62330579e+01, 4.93923748e-01],\n",
       "       [4.93923748e-01, 6.78917218e-03]])\n",
       "      jac: array([ 7.15255737e-07, -1.25169754e-06])\n",
       "  message: 'Optimization terminated successfully.'\n",
       "     nfev: 57\n",
       "      nit: 13\n",
       "     njev: 19\n",
       "   status: 0\n",
       "  success: True\n",
       "        x: array([94.6899751 ,  1.28020442])"
      ]
     },
     "execution_count": 636,
     "metadata": {},
     "output_type": "execute_result"
    }
   ],
   "source": [
    "optab6"
   ]
  },
  {
   "cell_type": "code",
   "execution_count": 640,
   "metadata": {},
   "outputs": [
    {
     "data": {
      "text/plain": [
       "[]"
      ]
     },
     "execution_count": 640,
     "metadata": {},
     "output_type": "execute_result"
    },
    {
     "data": {
      "image/png": "[encoded data removed]",
      "text/plain": [
       "<Figure size 432x288 with 1 Axes>"
      ]
     },
     "metadata": {
      "needs_background": "light"
     },
     "output_type": "display_data"
    }
   ],
   "source": [
    "axis = np.linspace(0, 100, 200)\n",
    "\n",
    "plt.hist(df['life_expectancy'], density = True, bins = 12)\n",
    "plt.plot(axis, stats.gamma.pdf(axis, optab6.x[0], scale = 1/optab6.x[1]))\n",
    "#plt.plot(axis, stats.beta.pdf(axis, 16.6, 27.4))\n",
    "plt.plot()"
   ]
  },
  {
   "cell_type": "code",
   "execution_count": 643,
   "metadata": {},
   "outputs": [
    {
     "name": "stdout",
     "output_type": "stream",
     "text": [
      "ABGELEHNT\n",
      "11.610426864051373 >= 4.605170185988092\n"
     ]
    }
   ],
   "source": [
    "alpha = 0.1\n",
    "\n",
    "if (test6(optab6.x) >= stats.chi2.ppf(1-alpha, df=2, loc=0, scale=1)): #df should be = 2 in this case df = k - m - 1\n",
    "    print(\"ABGELEHNT\")\n",
    "    print(test5(optab5.x), \">=\", stats.chi2.ppf(1-alpha, df=2, loc=0, scale=1))\n",
    "else:\n",
    "    print(\"NICHT ABGELEHNT\")\n",
    "    print(test6(optab6.x), \"=<\", stats.chi2.ppf(1-alpha, df=2, loc=0, scale=1))"
   ]
  },
  {
   "cell_type": "code",
   "execution_count": null,
   "metadata": {},
   "outputs": [],
   "source": []
  }
 ],
 "metadata": {
  "kernelspec": {
   "display_name": "Python 3",
   "language": "python",
   "name": "python3"
  },
  "language_info": {
   "codemirror_mode": {
    "name": "ipython",
    "version": 3
   },
   "file_extension": ".py",
   "mimetype": "text/x-python",
   "name": "python",
   "nbconvert_exporter": "python",
   "pygments_lexer": "ipython3",
   "version": "3.8.5"
  }
 },
 "nbformat": 4,
 "nbformat_minor": 4
}
